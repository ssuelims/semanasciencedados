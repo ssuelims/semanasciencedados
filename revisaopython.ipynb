{
 "cells": [
  {
   "cell_type": "code",
   "execution_count": null,
   "metadata": {},
   "outputs": [],
   "source": [
    "## Lista"
   ]
  },
  {
   "cell_type": "code",
   "execution_count": 1,
   "metadata": {},
   "outputs": [
    {
     "data": {
      "text/plain": [
       "list"
      ]
     },
     "execution_count": 1,
     "metadata": {},
     "output_type": "execute_result"
    }
   ],
   "source": [
    "\"Residencial,Comercial,Fazenda\"\n",
    "\n",
    "#Colchetes\n",
    "\n",
    "tipos_imoveis = [\"residencial\",\"comercial\",\"sitio\",\"chacara\"]\n",
    "type(tipos_imoveis)"
   ]
  },
  {
   "cell_type": "markdown",
   "metadata": {},
   "source": [
    "A lista muda ,mais a tupla nao.\n"
   ]
  },
  {
   "cell_type": "code",
   "execution_count": 3,
   "metadata": {},
   "outputs": [
    {
     "data": {
      "text/plain": [
       "tuple"
      ]
     },
     "execution_count": 3,
     "metadata": {},
     "output_type": "execute_result"
    }
   ],
   "source": [
    "tipos_imoveis =(\"residencial\",\"comercial\",\"fazenda\")\n",
    "type(tipos_imoveis)"
   ]
  },
  {
   "cell_type": "markdown",
   "metadata": {},
   "source": [
    "conjuntos\n",
    "{itens}"
   ]
  },
  {
   "cell_type": "code",
   "execution_count": null,
   "metadata": {},
   "outputs": [],
   "source": [
    "tipos_imoveis = {\"residencial\",\"comercial\",\"residencial\",\"fazenda\"}\n",
    "tipos_imoveis\n",
    "type(tipos_imoveis)                \n"
   ]
  },
  {
   "cell_type": "markdown",
   "metadata": {},
   "source": [
    "Conjuntos"
   ]
  },
  {
   "cell_type": "markdown",
   "metadata": {},
   "source": [
    "ist (list)  -[ ] mutavel\n",
    "tuple(tupla) - () imutavel\n",
    "set (conjuntos) {} nao repeti"
   ]
  },
  {
   "cell_type": "markdown",
   "metadata": {},
   "source": [
    " -Crie uma lista de vitoria do seu time\n",
    " - Crie uma tupla de fastfood\n",
    "- Crie um conjunto de itens de compra do supermercado"
   ]
  },
  {
   "cell_type": "markdown",
   "metadata": {},
   "source": [
    "lista"
   ]
  },
  {
   "cell_type": "code",
   "execution_count": 4,
   "metadata": {},
   "outputs": [
    {
     "data": {
      "text/plain": [
       "list"
      ]
     },
     "execution_count": 4,
     "metadata": {},
     "output_type": "execute_result"
    }
   ],
   "source": [
    "tipos_vitorias = [\"1999\",\"2004\",\"2005\"]\n",
    "type(tipos_vitorias)"
   ]
  },
  {
   "cell_type": "markdown",
   "metadata": {},
   "source": [
    "tupla"
   ]
  },
  {
   "cell_type": "code",
   "execution_count": 5,
   "metadata": {},
   "outputs": [
    {
     "data": {
      "text/plain": [
       "tuple"
      ]
     },
     "execution_count": 5,
     "metadata": {},
     "output_type": "execute_result"
    }
   ],
   "source": [
    "tipos_comidas= (\"carne\",\"arroz\",\"feijao\")\n",
    "type(tipos_comidas)"
   ]
  },
  {
   "cell_type": "markdown",
   "metadata": {},
   "source": [
    "Conjuntos"
   ]
  },
  {
   "cell_type": "code",
   "execution_count": 6,
   "metadata": {},
   "outputs": [
    {
     "data": {
      "text/plain": [
       "set"
      ]
     },
     "execution_count": 6,
     "metadata": {},
     "output_type": "execute_result"
    }
   ],
   "source": [
    "tipos_compras ={\"macarrao\",\"biscoito\",\"manga\",\"macarrao\"}\n",
    "tipos_compras\n",
    "type(tipos_compras)"
   ]
  },
  {
   "cell_type": "markdown",
   "metadata": {},
   "source": [
    "##criando um dicionario\n"
   ]
  },
  {
   "cell_type": "code",
   "execution_count": 8,
   "metadata": {},
   "outputs": [
    {
     "name": "stdout",
     "output_type": "stream",
     "text": [
      "3\n",
      "taguatinga:3\n",
      "Brazlandia:5\n",
      "ceilandia:2\n",
      "candangolondia:4\n"
     ]
    }
   ],
   "source": [
    "Apartamentos ={\n",
    "    'taguatinga':3,\n",
    "    'Brazlandia':5,\n",
    "    'ceilandia':2\n",
    "    \n",
    "}\n",
    "\n",
    "\n",
    "# Acessando valores no dicionario\n",
    "print(Apartamentos[\"taguatinga\"]) # saida: 3\n",
    "\n",
    "# Adicionando um novo apartamentos\n",
    "Apartamentos[\"candangolondia\"] = 4\n",
    "\n",
    "#Iterando sobre as chaves e valores\n",
    "\n",
    "for apartamento,quantidade in Apartamentos.items():\n",
    "    print(f\"{apartamento}:{quantidade}\")"
   ]
  },
  {
   "cell_type": "markdown",
   "metadata": {},
   "source": [
    "\n",
    "Orientação a objetos\n",
    "-Paradigma\n",
    "-Objeto\n",
    "-Classe\n",
    "-Método\n",
    "-Herança\n",
    "-Polimorfismo\n",
    "-Encapsulamento\n",
    "\n",
    "---Sexta-Feira---\n",
    "Estatística\n",
    "\n",
    "-Média : 5\n",
    "-Mediana : 10\n",
    "-Moda : 10\n",
    "-Quartis : 40\n",
    "-Desvio Padrão : 60"
   ]
  },
  {
   "cell_type": "code",
   "execution_count": null,
   "metadata": {},
   "outputs": [],
   "source": [
    "quinta_estudo ={\n",
    "    \"Paradigma\":30,\n",
    "    \"Objeto\":20,\n",
    "    \"Classe\":30,\n",
    "    \"Método\":30,\n",
    "    \"Herança\":30,\n",
    "    \"Polimorfismo\":30,\n",
    "    \"encapsulamento\":30\n",
    "}"
   ]
  },
  {
   "cell_type": "code",
   "execution_count": null,
   "metadata": {},
   "outputs": [],
   "source": [
    "sexta_estudo={\n",
    "    'Média':5,\n",
    "    \"Mediana\" :10,\n",
    "    \"Moda\" : 10,\n",
    "    \"QDesvio Padrão\" : 60\n",
    "}"
   ]
  }
 ],
 "metadata": {
  "kernelspec": {
   "display_name": "Python 3",
   "language": "python",
   "name": "python3"
  },
  "language_info": {
   "codemirror_mode": {
    "name": "ipython",
    "version": 3
   },
   "file_extension": ".py",
   "mimetype": "text/x-python",
   "name": "python",
   "nbconvert_exporter": "python",
   "pygments_lexer": "ipython3",
   "version": "3.12.4"
  }
 },
 "nbformat": 4,
 "nbformat_minor": 2
}
